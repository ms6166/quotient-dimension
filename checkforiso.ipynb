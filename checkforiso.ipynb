{
 "cells": [
  {
   "cell_type": "code",
   "execution_count": 1,
   "metadata": {},
   "outputs": [
    {
     "name": "stdout",
     "output_type": "stream",
     "text": [
      "5\n",
      "[[0. 0.]]\n",
      "[[0. 1.]]\n",
      "[[2. 1.]]\n",
      "[3, 5]\n"
     ]
    }
   ],
   "source": [
    "import numpy as np\n",
    "#import quaternion\n",
    "\n",
    "print(gap(2+3))\n",
    "#G = gap(ArcPresentation(PureCubicalKnot(3,1)))\n",
    "#print(G.gens)\n",
    "print(np.zeros((1,2)))\n",
    "result = np.zeros((1,2))\n",
    "result[0, 1] = 1\n",
    "print(result)\n",
    "result[0, 0] = 2\n",
    "print(result)\n",
    "\n",
    "r = [3, 5]\n",
    "print(r)\n",
    "\n",
    "\n",
    "def semi_direct_product_2(x, y, ro):\n",
    "    result = [x[0] + ro(x[1])*y[0], x[1]*y[1]]\n",
    "    return result \n"
   ]
  },
  {
   "cell_type": "code",
   "execution_count": 1,
   "metadata": {},
   "outputs": [
    {
     "name": "stdout",
     "output_type": "stream",
     "text": [
      "-1\n",
      "-1\n",
      "-1\n",
      "1\n",
      "1\n",
      "1\n",
      "1/2*phi - 1 + 1/2*i + j + (1/2*phi - 1/2)*k\n",
      "-1/2*phi + 1 + 1/2*i + (-phi)*j + (-1/2*phi + 1/2)*k\n",
      "new approach\n",
      "\n",
      "1 + (-phi)*j + (-phi + 1)*k\n",
      "-phi + (phi + 1)*j - k\n",
      "1/2*phi + 1/2 + (-1/2*phi)*i + 1/2*k\n"
     ]
    }
   ],
   "source": [
    "\n",
    "K.<phi> = NumberField(x^2 - x - 1)\n",
    "\n",
    "Q.<i,j,k> = QuaternionAlgebra(K, -1, -1)\n",
    "Q.variable_names()\n",
    "\n",
    "ro_s = (1+i+j+k)/2\n",
    "ro_t = (phi + i*(1/phi) + j)/2\n",
    "print(ro_s^3)\n",
    "print(ro_t^5)\n",
    "print(ro_s*ro_t*ro_s*ro_t)\n",
    "#print(\"\\n\")\n",
    "\n",
    "f_a = ro_s^-1*ro_t^-2*ro_s^-2*ro_t^-1*ro_s*ro_t^3*ro_s^2*ro_t^2*ro_s\n",
    "f_b = ro_s^4*ro_t^3\n",
    "\n",
    "m = f_a^2*f_b^2*f_a^-1*f_b^-3*f_a^-1*f_b^2\n",
    "n = f_a*f_b^-2*f_a*f_b^2*f_a^-1*f_b^-1*f_a^-1*f_b^2*f_a*f_b^-2*f_a*f_b^2*f_a^-1*f_b^2\n",
    "print(m)\n",
    "print(n)\n",
    "print(m*n*m*n)\n",
    "#print(\"\\n\")\n",
    "\n",
    "x = f_a^2*f_b^2*f_a^5*f_b^7*f_a^5\n",
    "ugly = f_a^2 + f_a^2*f_b + x + x*f_b - f_b^9 - f_b^8 - f_b^7\n",
    "print(ugly)\n",
    "\n",
    "#print(\"\\n\")\n",
    "#print(ugly*(1+i))\n",
    "\n",
    "new = 1+f_a-f_a^5-f_a^5*f_b^7*f_a^5\n",
    "print(new)\n",
    "\n",
    "\n",
    "print(\"new approach\\n\")\n",
    "\n",
    "cx = 1 + f_a - f_a^2*f_b^2*f_a^5 - f_a^2*f_b^2*f_a^5*f_b^7*f_a^5\n",
    "print(cx)\n",
    "\n",
    "cy = f_a^2 + f_a^2*f_b - f_a^2*f_b^2*f_a^5*f_b^9 - f_a^2*f_b^2*f_a^5*f_b^8 - f_a^2*f_b^2*f_a^5*f_b^7 - f_a^2*f_b^2*f_a^5*f_b^7*f_a^5 - f_a^2*f_b^2*f_a^5*f_b^7*f_a^5*f_b\n",
    "print(cy)\n",
    "\n",
    "print(-cy/cx)\n",
    "\n",
    "#D = GroupSemidirectProduct(K, Q, twist=None, act_to_right=False)\n"
   ]
  },
  {
   "cell_type": "code",
   "execution_count": 9,
   "metadata": {},
   "outputs": [
    {
     "ename": "TypeError",
     "evalue": "gap() takes exactly one argument (2 given)",
     "output_type": "error",
     "traceback": [
      "\u001b[0;31m---------------------------------------------------------------------------\u001b[0m",
      "\u001b[0;31mTypeError\u001b[0m                                 Traceback (most recent call last)",
      "Cell \u001b[0;32mIn[9], line 12\u001b[0m\n\u001b[1;32m      9\u001b[0m h \u001b[39m=\u001b[39m FreeGroup(names\u001b[39m=\u001b[39m(\u001b[39m'\u001b[39m\u001b[39ma\u001b[39m\u001b[39m'\u001b[39m, \u001b[39m'\u001b[39m\u001b[39mb\u001b[39m\u001b[39m'\u001b[39m, \u001b[39m'\u001b[39m\u001b[39mc\u001b[39m\u001b[39m'\u001b[39m,)); (a, b, c,) \u001b[39m=\u001b[39m h\u001b[39m.\u001b[39m_first_ngens(\u001b[39m3\u001b[39m)\n\u001b[1;32m     10\u001b[0m bi \u001b[39m=\u001b[39m h \u001b[39m/\u001b[39m [(a\u001b[39m*\u001b[39m\u001b[39m*\u001b[39mInteger(\u001b[39m2\u001b[39m))\u001b[39m/\u001b[39m(b\u001b[39m*\u001b[39m\u001b[39m*\u001b[39mInteger(\u001b[39m3\u001b[39m)), (c\u001b[39m*\u001b[39m\u001b[39m*\u001b[39mInteger(\u001b[39m5\u001b[39m))\u001b[39m/\u001b[39m(b\u001b[39m*\u001b[39m\u001b[39m*\u001b[39mInteger(\u001b[39m3\u001b[39m)), (a\u001b[39m*\u001b[39mc)\u001b[39m/\u001b[39m(b\u001b[39m*\u001b[39m\u001b[39m*\u001b[39mInteger(\u001b[39m2\u001b[39m)) ]\n\u001b[0;32m---> 12\u001b[0m gap(f\u001b[39m:=\u001b[39;49mFreeGroup( \u001b[39m\"\u001b[39;49m\u001b[39ma\u001b[39;49m\u001b[39m\"\u001b[39;49m, \u001b[39m\"\u001b[39;49m\u001b[39mb\u001b[39;49m\u001b[39m\"\u001b[39;49m))\n\u001b[1;32m     13\u001b[0m \u001b[39m#G = gap(f / [ f.1^2*f.2^2*f.1^-1*f.2^-3*f.1^-1*f.2^2, f.1*f.2^-2*f.1*f.2^2*f.1^-1*f.2^-1*f.1^-1*f.2^2*f.1*f.2^-2*f.1*f.2^2*f.1^-1*f.2^2 ])\u001b[39;00m\n\u001b[1;32m     14\u001b[0m \n\u001b[1;32m     15\u001b[0m \u001b[39m#h = gap.FreeGroup( \"a\", \"b\", \"c\")\u001b[39;00m\n\u001b[1;32m     16\u001b[0m \u001b[39m#bi = gap(h / [ (h.1^2)/(h.2^3), (h.3^5)/(h.2^3), (h.1*h.3)/(h.2^2) ])\u001b[39;00m\n\u001b[1;32m     18\u001b[0m T \u001b[39m=\u001b[39m QuaternionAlgebra(\u001b[39m-\u001b[39mInteger(\u001b[39m1\u001b[39m), \u001b[39m-\u001b[39mInteger(\u001b[39m1\u001b[39m), names\u001b[39m=\u001b[39m(\u001b[39m'\u001b[39m\u001b[39mi\u001b[39m\u001b[39m'\u001b[39m, \u001b[39m'\u001b[39m\u001b[39mj\u001b[39m\u001b[39m'\u001b[39m, \u001b[39m'\u001b[39m\u001b[39mk\u001b[39m\u001b[39m'\u001b[39m,)); (i, j, k,) \u001b[39m=\u001b[39m T\u001b[39m.\u001b[39m_first_ngens(\u001b[39m3\u001b[39m)\n",
      "File \u001b[0;32m~/mambaforge/envs/sage/lib/python3.9/site-packages/sage/interfaces/interface.py:305\u001b[0m, in \u001b[0;36mInterface.__call__\u001b[0;34m(self, x, name)\u001b[0m\n\u001b[1;32m    298\u001b[0m     \u001b[39mreturn\u001b[39;00m \u001b[39mcls\u001b[39m(\u001b[39mself\u001b[39m, x, name\u001b[39m=\u001b[39mname)\n\u001b[1;32m    299\u001b[0m \u001b[39mtry\u001b[39;00m:\n\u001b[1;32m    300\u001b[0m     \u001b[39m# Special methods do not and should not have an option to\u001b[39;00m\n\u001b[1;32m    301\u001b[0m     \u001b[39m# set the name directly, as the identifier assigned by the\u001b[39;00m\n\u001b[1;32m    302\u001b[0m     \u001b[39m# interface should stay consistent. An identifier with a\u001b[39;00m\n\u001b[1;32m    303\u001b[0m     \u001b[39m# user-assigned name might change its value, so we return a\u001b[39;00m\n\u001b[1;32m    304\u001b[0m     \u001b[39m# new element.\u001b[39;00m\n\u001b[0;32m--> 305\u001b[0m     result \u001b[39m=\u001b[39m \u001b[39mself\u001b[39;49m\u001b[39m.\u001b[39;49m_coerce_from_special_method(x)\n\u001b[1;32m    306\u001b[0m     \u001b[39mreturn\u001b[39;00m result \u001b[39mif\u001b[39;00m name \u001b[39mis\u001b[39;00m \u001b[39mNone\u001b[39;00m \u001b[39melse\u001b[39;00m result\u001b[39m.\u001b[39mname(new_name\u001b[39m=\u001b[39mname)\n\u001b[1;32m    307\u001b[0m \u001b[39mexcept\u001b[39;00m \u001b[39mTypeError\u001b[39;00m:\n",
      "File \u001b[0;32m~/mambaforge/envs/sage/lib/python3.9/site-packages/sage/interfaces/interface.py:333\u001b[0m, in \u001b[0;36mInterface._coerce_from_special_method\u001b[0;34m(self, x)\u001b[0m\n\u001b[1;32m    331\u001b[0m     s \u001b[39m=\u001b[39m \u001b[39m'\u001b[39m\u001b[39m_gp_\u001b[39m\u001b[39m'\u001b[39m\n\u001b[1;32m    332\u001b[0m \u001b[39mtry\u001b[39;00m:\n\u001b[0;32m--> 333\u001b[0m     \u001b[39mreturn\u001b[39;00m (x\u001b[39m.\u001b[39;49m\u001b[39m__getattribute__\u001b[39;49m(s))(\u001b[39mself\u001b[39;49m)\n\u001b[1;32m    334\u001b[0m \u001b[39mexcept\u001b[39;00m \u001b[39mAttributeError\u001b[39;00m:\n\u001b[1;32m    335\u001b[0m     \u001b[39mreturn\u001b[39;00m \u001b[39mself\u001b[39m(x\u001b[39m.\u001b[39m_interface_init_())\n",
      "\u001b[0;31mTypeError\u001b[0m: gap() takes exactly one argument (2 given)"
     ]
    }
   ],
   "source": [
    "K.<phi> = NumberField(x^2 - x - 1)\n",
    "\n",
    "Q.<i,j,k> = QuaternionAlgebra(K, -1, -1)\n",
    "Q.variable_names()\n",
    "\n",
    "F.<a,b> = FreeGroup()\n",
    "G = F / [a^2*b^2*a^-1*b^-3*a^-1*b^2, a*b^-2*a*b^2*a^-1*b^-1*a^-1*b^2*a*b^-2*a*b^2*a^-1*b^2]\n",
    "\n",
    "h.<a,b,c> = FreeGroup()\n",
    "bi = h / [(a^2)/(b^3), (c^5)/(b^3), (a*c)/(b^2) ]\n",
    "\n",
    "f=gap.FreeGroup( \"a\", \"b\")\n",
    "#G = gap(f / [ f.1^2*f.2^2*f.1^-1*f.2^-3*f.1^-1*f.2^2, f.1*f.2^-2*f.1*f.2^2*f.1^-1*f.2^-1*f.1^-1*f.2^2*f.1*f.2^-2*f.1*f.2^2*f.1^-1*f.2^2 ])\n",
    "\n",
    "#h = gap.FreeGroup( \"a\", \"b\", \"c\")\n",
    "#bi = gap(h / [ (h.1^2)/(h.2^3), (h.3^5)/(h.2^3), (h.1*h.3)/(h.2^2) ])\n",
    "\n",
    "T.<i,j,k> = QuaternionAlgebra(-1, -1)\n",
    "T.variable_names()\n",
    "\n",
    "#gap.GroupHomomorphismByImages(bi)"
   ]
  },
  {
   "cell_type": "code",
   "execution_count": 11,
   "metadata": {},
   "outputs": [
    {
     "ename": "TypeError",
     "evalue": "Gap produced error output\nError, Variable: 'a' must have a value\n\n   executing \\$sage3:=a;;",
     "output_type": "error",
     "traceback": [
      "\u001b[0;31m---------------------------------------------------------------------------\u001b[0m",
      "\u001b[0;31mRuntimeError\u001b[0m                              Traceback (most recent call last)",
      "File \u001b[0;32m~/mambaforge/envs/sage/lib/python3.9/site-packages/sage/interfaces/gap.py:690\u001b[0m, in \u001b[0;36mGap_generic._eval_line\u001b[0;34m(self, line, allow_use_file, wait_for_prompt, restart_if_needed)\u001b[0m\n\u001b[1;32m    689\u001b[0m     error \u001b[39m=\u001b[39m error\u001b[39m.\u001b[39mreplace(\u001b[39m'\u001b[39m\u001b[39m\\r\u001b[39;00m\u001b[39m'\u001b[39m,\u001b[39m'\u001b[39m\u001b[39m'\u001b[39m)\n\u001b[0;32m--> 690\u001b[0m     \u001b[39mraise\u001b[39;00m \u001b[39mRuntimeError\u001b[39;00m(\u001b[39m\"\u001b[39m\u001b[39m%s\u001b[39;00m\u001b[39m produced error output\u001b[39m\u001b[39m\\n\u001b[39;00m\u001b[39m%s\u001b[39;00m\u001b[39m\\n\u001b[39;00m\u001b[39m   executing \u001b[39m\u001b[39m%s\u001b[39;00m\u001b[39m\"\u001b[39m\u001b[39m%\u001b[39m(\u001b[39mself\u001b[39m, error,line))\n\u001b[1;32m    691\u001b[0m \u001b[39mif\u001b[39;00m \u001b[39mnot\u001b[39;00m normal:\n",
      "\u001b[0;31mRuntimeError\u001b[0m: Gap produced error output\nError, Variable: 'a' must have a value\n\n   executing \\$sage3:=a;;",
      "\nDuring handling of the above exception, another exception occurred:\n",
      "\u001b[0;31mRuntimeError\u001b[0m                              Traceback (most recent call last)",
      "File \u001b[0;32m~/mambaforge/envs/sage/lib/python3.9/site-packages/sage/interfaces/expect.py:1496\u001b[0m, in \u001b[0;36mExpectElement.__init__\u001b[0;34m(self, parent, value, is_name, name)\u001b[0m\n\u001b[1;32m   1495\u001b[0m \u001b[39mtry\u001b[39;00m:\n\u001b[0;32m-> 1496\u001b[0m     \u001b[39mself\u001b[39m\u001b[39m.\u001b[39m_name \u001b[39m=\u001b[39m parent\u001b[39m.\u001b[39;49m_create(value, name\u001b[39m=\u001b[39;49mname)\n\u001b[1;32m   1497\u001b[0m \u001b[39m# Convert ValueError and RuntimeError to TypeError for\u001b[39;00m\n\u001b[1;32m   1498\u001b[0m \u001b[39m# coercion to work properly.\u001b[39;00m\n",
      "File \u001b[0;32m~/mambaforge/envs/sage/lib/python3.9/site-packages/sage/interfaces/interface.py:516\u001b[0m, in \u001b[0;36mInterface._create\u001b[0;34m(self, value, name)\u001b[0m\n\u001b[1;32m    515\u001b[0m name \u001b[39m=\u001b[39m \u001b[39mself\u001b[39m\u001b[39m.\u001b[39m_next_var_name() \u001b[39mif\u001b[39;00m name \u001b[39mis\u001b[39;00m \u001b[39mNone\u001b[39;00m \u001b[39melse\u001b[39;00m name\n\u001b[0;32m--> 516\u001b[0m \u001b[39mself\u001b[39;49m\u001b[39m.\u001b[39;49mset(name, value)\n\u001b[1;32m    517\u001b[0m \u001b[39mreturn\u001b[39;00m name\n",
      "File \u001b[0;32m~/mambaforge/envs/sage/lib/python3.9/site-packages/sage/interfaces/gap.py:1343\u001b[0m, in \u001b[0;36mGap.set\u001b[0;34m(self, var, value)\u001b[0m\n\u001b[1;32m   1342\u001b[0m cmd \u001b[39m=\u001b[39m (\u001b[39m'\u001b[39m\u001b[39m%s\u001b[39;00m\u001b[39m:=\u001b[39m\u001b[39m%s\u001b[39;00m\u001b[39m;;\u001b[39m\u001b[39m'\u001b[39m \u001b[39m%\u001b[39m (var, value))\u001b[39m.\u001b[39mreplace(\u001b[39m'\u001b[39m\u001b[39m\\n\u001b[39;00m\u001b[39m'\u001b[39m,\u001b[39m'\u001b[39m\u001b[39m'\u001b[39m)\n\u001b[0;32m-> 1343\u001b[0m \u001b[39mself\u001b[39;49m\u001b[39m.\u001b[39;49m_eval_line(cmd, allow_use_file\u001b[39m=\u001b[39;49m\u001b[39mTrue\u001b[39;49;00m)\n",
      "File \u001b[0;32m~/mambaforge/envs/sage/lib/python3.9/site-packages/sage/interfaces/gap.py:724\u001b[0m, in \u001b[0;36mGap_generic._eval_line\u001b[0;34m(self, line, allow_use_file, wait_for_prompt, restart_if_needed)\u001b[0m\n\u001b[1;32m    723\u001b[0m     \u001b[39melse\u001b[39;00m:\n\u001b[0;32m--> 724\u001b[0m         \u001b[39mraise\u001b[39;00m \u001b[39mRuntimeError\u001b[39;00m(exc)\n\u001b[1;32m    726\u001b[0m \u001b[39mexcept\u001b[39;00m \u001b[39mKeyboardInterrupt\u001b[39;00m:\n",
      "\u001b[0;31mRuntimeError\u001b[0m: Gap produced error output\nError, Variable: 'a' must have a value\n\n   executing \\$sage3:=a;;",
      "\nDuring handling of the above exception, another exception occurred:\n",
      "\u001b[0;31mTypeError\u001b[0m                                 Traceback (most recent call last)",
      "Cell \u001b[0;32mIn[11], line 1\u001b[0m\n\u001b[0;32m----> 1\u001b[0m h\u001b[39m=\u001b[39mgap\u001b[39m.\u001b[39;49mFreeGroup( \u001b[39m\"\u001b[39;49m\u001b[39ma\u001b[39;49m\u001b[39m\"\u001b[39;49m, \u001b[39m\"\u001b[39;49m\u001b[39mb\u001b[39;49m\u001b[39m\"\u001b[39;49m, \u001b[39m\"\u001b[39;49m\u001b[39mc\u001b[39;49m\u001b[39m\"\u001b[39;49m)\n\u001b[1;32m      2\u001b[0m gap\u001b[39m.\u001b[39mRelatorsOfFpGroup(h) \n",
      "File \u001b[0;32m~/mambaforge/envs/sage/lib/python3.9/site-packages/sage/interfaces/interface.py:670\u001b[0m, in \u001b[0;36mInterfaceFunction.__call__\u001b[0;34m(self, *args, **kwds)\u001b[0m\n\u001b[1;32m    669\u001b[0m \u001b[39mdef\u001b[39;00m \u001b[39m__call__\u001b[39m(\u001b[39mself\u001b[39m, \u001b[39m*\u001b[39margs, \u001b[39m*\u001b[39m\u001b[39m*\u001b[39mkwds):\n\u001b[0;32m--> 670\u001b[0m     \u001b[39mreturn\u001b[39;00m \u001b[39mself\u001b[39;49m\u001b[39m.\u001b[39;49m_parent\u001b[39m.\u001b[39;49mfunction_call(\u001b[39mself\u001b[39;49m\u001b[39m.\u001b[39;49m_name, \u001b[39mlist\u001b[39;49m(args), kwds)\n",
      "File \u001b[0;32m~/mambaforge/envs/sage/lib/python3.9/site-packages/sage/interfaces/gap.py:857\u001b[0m, in \u001b[0;36mGap_generic.function_call\u001b[0;34m(self, function, args, kwds)\u001b[0m\n\u001b[1;32m    818\u001b[0m \u001b[39mdef\u001b[39;00m \u001b[39mfunction_call\u001b[39m(\u001b[39mself\u001b[39m, function, args\u001b[39m=\u001b[39m\u001b[39mNone\u001b[39;00m, kwds\u001b[39m=\u001b[39m\u001b[39mNone\u001b[39;00m):\n\u001b[1;32m    819\u001b[0m \u001b[39m    \u001b[39m\u001b[39m\"\"\"\u001b[39;00m\n\u001b[1;32m    820\u001b[0m \u001b[39m    Calls the GAP function with args and kwds.\u001b[39;00m\n\u001b[1;32m    821\u001b[0m \n\u001b[0;32m   (...)\u001b[0m\n\u001b[1;32m    855\u001b[0m \u001b[39m          ConjugacyClassSubgroups(SymmetricGroup( [ 1 .. 2 ] ),Group( [ (1,2) ] )) ]\u001b[39;00m\n\u001b[1;32m    856\u001b[0m \u001b[39m    \"\"\"\u001b[39;00m\n\u001b[0;32m--> 857\u001b[0m     args, kwds \u001b[39m=\u001b[39m \u001b[39mself\u001b[39;49m\u001b[39m.\u001b[39;49m_convert_args_kwds(args, kwds)\n\u001b[1;32m    858\u001b[0m     \u001b[39mself\u001b[39m\u001b[39m.\u001b[39m_check_valid_function_name(function)\n\u001b[1;32m    860\u001b[0m     \u001b[39m#Here we have to do some magic because not all GAP\u001b[39;00m\n\u001b[1;32m    861\u001b[0m     \u001b[39m#functions return a value.  If you try to store their\u001b[39;00m\n\u001b[1;32m    862\u001b[0m     \u001b[39m#results to a variable, then GAP will complain.  Thus, before\u001b[39;00m\n\u001b[0;32m   (...)\u001b[0m\n\u001b[1;32m    865\u001b[0m     \u001b[39m#value, then that value will be in 'last', otherwise it will\u001b[39;00m\n\u001b[1;32m    866\u001b[0m     \u001b[39m#be the marker.\u001b[39;00m\n",
      "File \u001b[0;32m~/mambaforge/envs/sage/lib/python3.9/site-packages/sage/interfaces/interface.py:572\u001b[0m, in \u001b[0;36mInterface._convert_args_kwds\u001b[0;34m(self, args, kwds)\u001b[0m\n\u001b[1;32m    570\u001b[0m \u001b[39mfor\u001b[39;00m i, arg \u001b[39min\u001b[39;00m \u001b[39menumerate\u001b[39m(args):\n\u001b[1;32m    571\u001b[0m     \u001b[39mif\u001b[39;00m \u001b[39mnot\u001b[39;00m \u001b[39misinstance\u001b[39m(arg, InterfaceElement) \u001b[39mor\u001b[39;00m arg\u001b[39m.\u001b[39mparent() \u001b[39mis\u001b[39;00m \u001b[39mnot\u001b[39;00m \u001b[39mself\u001b[39m:\n\u001b[0;32m--> 572\u001b[0m         args[i] \u001b[39m=\u001b[39m \u001b[39mself\u001b[39;49m(arg)\n\u001b[1;32m    573\u001b[0m \u001b[39mfor\u001b[39;00m key, value \u001b[39min\u001b[39;00m kwds\u001b[39m.\u001b[39mitems():\n\u001b[1;32m    574\u001b[0m     \u001b[39mif\u001b[39;00m \u001b[39mnot\u001b[39;00m \u001b[39misinstance\u001b[39m(value, InterfaceElement) \u001b[39mor\u001b[39;00m value\u001b[39m.\u001b[39mparent() \u001b[39mis\u001b[39;00m \u001b[39mnot\u001b[39;00m \u001b[39mself\u001b[39m:\n",
      "File \u001b[0;32m~/mambaforge/envs/sage/lib/python3.9/site-packages/sage/interfaces/interface.py:298\u001b[0m, in \u001b[0;36mInterface.__call__\u001b[0;34m(self, x, name)\u001b[0m\n\u001b[1;32m    295\u001b[0m         \u001b[39mpass\u001b[39;00m\n\u001b[1;32m    297\u001b[0m \u001b[39mif\u001b[39;00m \u001b[39misinstance\u001b[39m(x, \u001b[39mstr\u001b[39m):\n\u001b[0;32m--> 298\u001b[0m     \u001b[39mreturn\u001b[39;00m \u001b[39mcls\u001b[39;49m(\u001b[39mself\u001b[39;49m, x, name\u001b[39m=\u001b[39;49mname)\n\u001b[1;32m    299\u001b[0m \u001b[39mtry\u001b[39;00m:\n\u001b[1;32m    300\u001b[0m     \u001b[39m# Special methods do not and should not have an option to\u001b[39;00m\n\u001b[1;32m    301\u001b[0m     \u001b[39m# set the name directly, as the identifier assigned by the\u001b[39;00m\n\u001b[1;32m    302\u001b[0m     \u001b[39m# interface should stay consistent. An identifier with a\u001b[39;00m\n\u001b[1;32m    303\u001b[0m     \u001b[39m# user-assigned name might change its value, so we return a\u001b[39;00m\n\u001b[1;32m    304\u001b[0m     \u001b[39m# new element.\u001b[39;00m\n\u001b[1;32m    305\u001b[0m     result \u001b[39m=\u001b[39m \u001b[39mself\u001b[39m\u001b[39m.\u001b[39m_coerce_from_special_method(x)\n",
      "File \u001b[0;32m~/mambaforge/envs/sage/lib/python3.9/site-packages/sage/interfaces/expect.py:1501\u001b[0m, in \u001b[0;36mExpectElement.__init__\u001b[0;34m(self, parent, value, is_name, name)\u001b[0m\n\u001b[1;32m   1499\u001b[0m \u001b[39mexcept\u001b[39;00m (\u001b[39mRuntimeError\u001b[39;00m, \u001b[39mValueError\u001b[39;00m) \u001b[39mas\u001b[39;00m x:\n\u001b[1;32m   1500\u001b[0m     \u001b[39mself\u001b[39m\u001b[39m.\u001b[39m_session_number \u001b[39m=\u001b[39m \u001b[39m-\u001b[39m\u001b[39m1\u001b[39m\n\u001b[0;32m-> 1501\u001b[0m     \u001b[39mraise\u001b[39;00m \u001b[39mTypeError\u001b[39;00m(\u001b[39m*\u001b[39mx\u001b[39m.\u001b[39margs)\n\u001b[1;32m   1502\u001b[0m \u001b[39mexcept\u001b[39;00m \u001b[39mBaseException\u001b[39;00m:\n\u001b[1;32m   1503\u001b[0m     \u001b[39mself\u001b[39m\u001b[39m.\u001b[39m_session_number \u001b[39m=\u001b[39m \u001b[39m-\u001b[39m\u001b[39m1\u001b[39m\n",
      "\u001b[0;31mTypeError\u001b[0m: Gap produced error output\nError, Variable: 'a' must have a value\n\n   executing \\$sage3:=a;;"
     ]
    }
   ],
   "source": [
    "h=gap.FreeGroup( \"a\", \"b\", \"c\")\n",
    "gap.RelatorsOfFpGroup(h) "
   ]
  },
  {
   "cell_type": "code",
   "execution_count": null,
   "metadata": {},
   "outputs": [],
   "source": []
  }
 ],
 "metadata": {
  "kernelspec": {
   "display_name": "SageMath 10.0",
   "language": "sage",
   "name": "sagemath"
  },
  "language_info": {
   "codemirror_mode": {
    "name": "ipython",
    "version": 3
   },
   "file_extension": ".py",
   "mimetype": "text/x-python",
   "name": "python",
   "nbconvert_exporter": "python",
   "pygments_lexer": "ipython3",
   "version": "3.9.16"
  },
  "orig_nbformat": 4
 },
 "nbformat": 4,
 "nbformat_minor": 2
}
